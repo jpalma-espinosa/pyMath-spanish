{
 "cells": [
  {
   "cell_type": "markdown",
   "metadata": {},
   "source": [
    "# Fast Python Exercise\n",
    "The goal for this exercise is simple: given a list of numbers, enumerate all triplets of numbers contained in this list that sum to zero (without taking the same element twice out of the list).\n",
    "\n",
    "This function can be implemented trivially as:"
   ]
  },
  {
   "cell_type": "code",
   "execution_count": 1,
   "metadata": {},
   "outputs": [],
   "source": [
    "s3=lambda N: {(Ni,Nj,Nk) for i,Ni in enumerate(N) for j,Nj in enumerate(N) for k,Nk in enumerate(N)\n",
    "               if len({i,j,k}) == 3 and Ni <= Nj <= Nk and Ni+Nj+Nk==0 }"
   ]
  },
  {
   "cell_type": "markdown",
   "metadata": {},
   "source": [
    "Your task: Implement a fast function to compute the same set. This function should return the same result as `s3(N)` above (check for small lists `N`). Then check how long it takes for the following large list:"
   ]
  },
  {
   "cell_type": "code",
   "execution_count": 2,
   "metadata": {},
   "outputs": [],
   "source": [
    "import random\n",
    "random.seed(523529)\n",
    "N = [random.randint(-10000,10000) for i in range(7777)]"
   ]
  },
  {
   "cell_type": "markdown",
   "metadata": {},
   "source": [
    "Note that on the https://maxima.erc.monash.edu/ server can be done in basic python (without using external libraries) in under 5 seconds of CPU time. By importing appropriate libraries perhaps you can even do it in sub 1 second?\n",
    "\n",
    "### Testing\n",
    "To check whether your method works, try some small instances and compare that they give the same result as the `s3` function."
   ]
  },
  {
   "cell_type": "code",
   "execution_count": 3,
   "metadata": {},
   "outputs": [
    {
     "name": "stdout",
     "output_type": "stream",
     "text": [
      "{(-12, -3, 15), (-3, -3, 6), (-10, 0, 10), (-7, -3, 10), (-9, -1, 10), (-4, 1, 3), (-7, -1, 8), (-13, 3, 10), (-9, 3, 6), (-1, 0, 1), (-7, 1, 6), (-4, -4, 8), (-9, 1, 8), (-3, 0, 3)}\n",
      "S20 has 14 elements and matches myFunc: True\n",
      "S50 has 48 elements and matches myFunc: True\n"
     ]
    }
   ],
   "source": [
    "N20 = [random.randint(-15,15) for i in range (20)]\n",
    "N50 = [random.randint(-100,100) for i in range(50)]\n",
    "\n",
    "def myGenerator(N):\n",
    "    for k,Nk in enumerate(N):\n",
    "        for j,Nj in enumerate(N):\n",
    "            for i,Ni in enumerate(N):\n",
    "                if len({i,j,k}) == 3 and Ni <= Nj <= Nk and Ni+Nj+Nk==0:\n",
    "                    yield (Ni,Nj,Nk)\n",
    "def myFunc(N):\n",
    "    return { triple for triple in myGenerator(N)}\n",
    "\n",
    "S20 = s3(N20)\n",
    "print(S20)\n",
    "print(\"S20 has\",len(S20),\"elements and matches myFunc:\",(S20==myFunc(N20)))\n",
    "\n",
    "S50 = s3(N50)\n",
    "print(\"S50 has\",len(S50),\"elements and matches myFunc:\",(S50==myFunc(N50)))"
   ]
  },
  {
   "cell_type": "code",
   "execution_count": null,
   "metadata": {},
   "outputs": [],
   "source": []
  }
 ],
 "metadata": {
  "kernelspec": {
   "display_name": "Python 3",
   "language": "python",
   "name": "python3"
  },
  "language_info": {
   "codemirror_mode": {
    "name": "ipython",
    "version": 3
   },
   "file_extension": ".py",
   "mimetype": "text/x-python",
   "name": "python",
   "nbconvert_exporter": "python",
   "pygments_lexer": "ipython3",
   "version": "3.6.8"
  }
 },
 "nbformat": 4,
 "nbformat_minor": 2
}
